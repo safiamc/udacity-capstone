{
 "cells": [
  {
   "cell_type": "code",
   "execution_count": 37,
   "metadata": {},
   "outputs": [],
   "source": [
    "#import packages for EDA\n",
    "import pandas as pd\n",
    "import numpy as np\n",
    "import matplotlib.pyplot as plt\n",
    "import seaborn as sns\n",
    "\n",
    "\n",
    "from sklearn.model_selection import train_test_split\n",
    "from sklearn.metrics import confusion_matrix, classification_report"
   ]
  },
  {
   "cell_type": "code",
   "execution_count": 38,
   "metadata": {},
   "outputs": [
    {
     "name": "stdout",
     "output_type": "stream",
     "text": [
      "Default Bucket: sagemaker-us-east-1-513238734400\n",
      "AWS Region: us-east-1\n",
      "RoleArn: arn:aws:iam::513238734400:role/service-role/AmazonSageMaker-ExecutionRole-20220121T133455\n"
     ]
    }
   ],
   "source": [
    "#get session & role info\n",
    "import sagemaker\n",
    "from sagemaker import utils\n",
    "from sagemaker.serializers import CSVSerializer\n",
    "import boto3\n",
    "import os\n",
    "\n",
    "from sagemaker.session import Session\n",
    "from sagemaker import get_execution_role\n",
    "\n",
    "session = sagemaker.Session()\n",
    "\n",
    "bucket= session.default_bucket()\n",
    "print(\"Default Bucket: {}\".format(bucket))\n",
    "\n",
    "prefix = 'CapstoneProject'\n",
    "output_path = f\"s3://{bucket}/{prefix}/output/\"\n",
    "region = session.boto_region_name\n",
    "print(\"AWS Region: {}\".format(region))\n",
    "\n",
    "role = get_execution_role()\n",
    "print(\"RoleArn: {}\".format(role))"
   ]
  },
  {
   "cell_type": "code",
   "execution_count": 40,
   "metadata": {},
   "outputs": [],
   "source": [
    "#AutoGluon Training\n",
    "from ag_model import (\n",
    "    AutoGluonTraining,\n",
    "    AutoGluonInferenceModel,\n",
    "    AutoGluonTabularPredictor,\n",
    ")"
   ]
  },
  {
   "cell_type": "code",
   "execution_count": 13,
   "metadata": {},
   "outputs": [
    {
     "data": {
      "text/plain": [
       "(14075, 822)"
      ]
     },
     "execution_count": 13,
     "metadata": {},
     "output_type": "execute_result"
    }
   ],
   "source": [
    "#read in csv\n",
    "data = pd.read_csv('s3://sagemaker-studio-rqk547knaq/CapstoneProject/nhes_16_pfi_pu.csv')\n",
    "data.shape"
   ]
  },
  {
   "cell_type": "code",
   "execution_count": 14,
   "metadata": {},
   "outputs": [],
   "source": [
    "#drop columns with weights, imputation flags, info on how survey was completed, and age/sex/grade of non-sampled children in the household\n",
    "data.drop(data.loc[:, 'MODECOMP':], inplace=True, axis=1)"
   ]
  },
  {
   "cell_type": "code",
   "execution_count": 15,
   "metadata": {},
   "outputs": [
    {
     "data": {
      "text/plain": [
       "364"
      ]
     },
     "execution_count": 15,
     "metadata": {},
     "output_type": "execute_result"
    }
   ],
   "source": [
    "data.shape\n",
    "data['SEABSNT'].max()"
   ]
  },
  {
   "cell_type": "code",
   "execution_count": 17,
   "metadata": {},
   "outputs": [
    {
     "data": {
      "text/plain": [
       "(13523, 372)"
      ]
     },
     "execution_count": 17,
     "metadata": {},
     "output_type": "execute_result"
    }
   ],
   "source": [
    "#drop rows with no entry for days absent from school\n",
    "data = data[data['SEABSNT']!=-1]\n",
    "data.shape"
   ]
  },
  {
   "cell_type": "code",
   "execution_count": 19,
   "metadata": {},
   "outputs": [],
   "source": [
    "#drop children who are homeschooled, and columns related to homeschooling choices\n",
    "data=data[data['HSWHOX']==-1]\n",
    "data.drop(data.loc[:, 'HSWHOX':'HSNATL'], inplace=True, axis=1)"
   ]
  },
  {
   "cell_type": "code",
   "execution_count": 24,
   "metadata": {},
   "outputs": [
    {
     "data": {
      "text/html": [
       "<div>\n",
       "<style scoped>\n",
       "    .dataframe tbody tr th:only-of-type {\n",
       "        vertical-align: middle;\n",
       "    }\n",
       "\n",
       "    .dataframe tbody tr th {\n",
       "        vertical-align: top;\n",
       "    }\n",
       "\n",
       "    .dataframe thead th {\n",
       "        text-align: right;\n",
       "    }\n",
       "</style>\n",
       "<table border=\"1\" class=\"dataframe\">\n",
       "  <thead>\n",
       "    <tr style=\"text-align: right;\">\n",
       "      <th></th>\n",
       "      <th>GRADE</th>\n",
       "      <th>SCPUBPRI</th>\n",
       "      <th>DISTASSI</th>\n",
       "      <th>SCHRTSCHL</th>\n",
       "      <th>SNEIGHBRX</th>\n",
       "      <th>SPUBCHOIX</th>\n",
       "      <th>SCONSIDR</th>\n",
       "      <th>SPERFORM</th>\n",
       "      <th>S1STCHOI</th>\n",
       "      <th>SSAMSC</th>\n",
       "      <th>...</th>\n",
       "      <th>ZIP18PO2</th>\n",
       "      <th>ZIPBLHI2</th>\n",
       "      <th>ZIPLOCL</th>\n",
       "      <th>S16CHART</th>\n",
       "      <th>S16NUMST</th>\n",
       "      <th>S16PBPV</th>\n",
       "      <th>S16TYPE</th>\n",
       "      <th>SCHLGRAD</th>\n",
       "      <th>ENGLSPANX</th>\n",
       "      <th>AGE2015</th>\n",
       "    </tr>\n",
       "  </thead>\n",
       "  <tbody>\n",
       "    <tr>\n",
       "      <th>count</th>\n",
       "      <td>13523.000000</td>\n",
       "      <td>13523.000000</td>\n",
       "      <td>13523.000000</td>\n",
       "      <td>13523.000000</td>\n",
       "      <td>13523.000000</td>\n",
       "      <td>13523.000000</td>\n",
       "      <td>13523.000000</td>\n",
       "      <td>13523.000000</td>\n",
       "      <td>13523.000000</td>\n",
       "      <td>13523.000000</td>\n",
       "      <td>...</td>\n",
       "      <td>13523.000000</td>\n",
       "      <td>13523.000000</td>\n",
       "      <td>13523.00000</td>\n",
       "      <td>13523.000000</td>\n",
       "      <td>13523.000000</td>\n",
       "      <td>13523.000000</td>\n",
       "      <td>13523.000000</td>\n",
       "      <td>13523.000000</td>\n",
       "      <td>13523.000000</td>\n",
       "      <td>13523.000000</td>\n",
       "    </tr>\n",
       "    <tr>\n",
       "      <th>mean</th>\n",
       "      <td>9.658730</td>\n",
       "      <td>3.752570</td>\n",
       "      <td>0.921763</td>\n",
       "      <td>1.597796</td>\n",
       "      <td>1.815869</td>\n",
       "      <td>1.942542</td>\n",
       "      <td>1.694225</td>\n",
       "      <td>-0.325889</td>\n",
       "      <td>1.180581</td>\n",
       "      <td>1.028248</td>\n",
       "      <td>...</td>\n",
       "      <td>2.036604</td>\n",
       "      <td>2.658877</td>\n",
       "      <td>22.68964</td>\n",
       "      <td>1.625305</td>\n",
       "      <td>2.786512</td>\n",
       "      <td>1.113510</td>\n",
       "      <td>3.709606</td>\n",
       "      <td>3.036161</td>\n",
       "      <td>1.049841</td>\n",
       "      <td>12.051690</td>\n",
       "    </tr>\n",
       "    <tr>\n",
       "      <th>std</th>\n",
       "      <td>3.838806</td>\n",
       "      <td>0.744754</td>\n",
       "      <td>0.771633</td>\n",
       "      <td>0.959289</td>\n",
       "      <td>0.387605</td>\n",
       "      <td>0.772644</td>\n",
       "      <td>0.460752</td>\n",
       "      <td>1.039979</td>\n",
       "      <td>0.384685</td>\n",
       "      <td>0.165687</td>\n",
       "      <td>...</td>\n",
       "      <td>0.967253</td>\n",
       "      <td>1.062233</td>\n",
       "      <td>10.26508</td>\n",
       "      <td>0.975685</td>\n",
       "      <td>1.339795</td>\n",
       "      <td>0.317227</td>\n",
       "      <td>1.056901</td>\n",
       "      <td>1.249384</td>\n",
       "      <td>0.217624</td>\n",
       "      <td>3.787829</td>\n",
       "    </tr>\n",
       "    <tr>\n",
       "      <th>min</th>\n",
       "      <td>2.000000</td>\n",
       "      <td>1.000000</td>\n",
       "      <td>-1.000000</td>\n",
       "      <td>-1.000000</td>\n",
       "      <td>1.000000</td>\n",
       "      <td>1.000000</td>\n",
       "      <td>1.000000</td>\n",
       "      <td>-1.000000</td>\n",
       "      <td>1.000000</td>\n",
       "      <td>1.000000</td>\n",
       "      <td>...</td>\n",
       "      <td>1.000000</td>\n",
       "      <td>1.000000</td>\n",
       "      <td>11.00000</td>\n",
       "      <td>-9.000000</td>\n",
       "      <td>-9.000000</td>\n",
       "      <td>1.000000</td>\n",
       "      <td>-9.000000</td>\n",
       "      <td>-9.000000</td>\n",
       "      <td>1.000000</td>\n",
       "      <td>3.000000</td>\n",
       "    </tr>\n",
       "    <tr>\n",
       "      <th>25%</th>\n",
       "      <td>7.000000</td>\n",
       "      <td>4.000000</td>\n",
       "      <td>1.000000</td>\n",
       "      <td>2.000000</td>\n",
       "      <td>2.000000</td>\n",
       "      <td>1.000000</td>\n",
       "      <td>1.000000</td>\n",
       "      <td>-1.000000</td>\n",
       "      <td>1.000000</td>\n",
       "      <td>1.000000</td>\n",
       "      <td>...</td>\n",
       "      <td>1.000000</td>\n",
       "      <td>2.000000</td>\n",
       "      <td>13.00000</td>\n",
       "      <td>2.000000</td>\n",
       "      <td>2.000000</td>\n",
       "      <td>1.000000</td>\n",
       "      <td>4.000000</td>\n",
       "      <td>2.000000</td>\n",
       "      <td>1.000000</td>\n",
       "      <td>9.000000</td>\n",
       "    </tr>\n",
       "    <tr>\n",
       "      <th>50%</th>\n",
       "      <td>10.000000</td>\n",
       "      <td>4.000000</td>\n",
       "      <td>1.000000</td>\n",
       "      <td>2.000000</td>\n",
       "      <td>2.000000</td>\n",
       "      <td>2.000000</td>\n",
       "      <td>2.000000</td>\n",
       "      <td>-1.000000</td>\n",
       "      <td>1.000000</td>\n",
       "      <td>1.000000</td>\n",
       "      <td>...</td>\n",
       "      <td>2.000000</td>\n",
       "      <td>3.000000</td>\n",
       "      <td>21.00000</td>\n",
       "      <td>2.000000</td>\n",
       "      <td>3.000000</td>\n",
       "      <td>1.000000</td>\n",
       "      <td>4.000000</td>\n",
       "      <td>3.000000</td>\n",
       "      <td>1.000000</td>\n",
       "      <td>12.000000</td>\n",
       "    </tr>\n",
       "    <tr>\n",
       "      <th>75%</th>\n",
       "      <td>13.000000</td>\n",
       "      <td>4.000000</td>\n",
       "      <td>1.000000</td>\n",
       "      <td>2.000000</td>\n",
       "      <td>2.000000</td>\n",
       "      <td>3.000000</td>\n",
       "      <td>2.000000</td>\n",
       "      <td>1.000000</td>\n",
       "      <td>1.000000</td>\n",
       "      <td>1.000000</td>\n",
       "      <td>...</td>\n",
       "      <td>3.000000</td>\n",
       "      <td>4.000000</td>\n",
       "      <td>23.00000</td>\n",
       "      <td>2.000000</td>\n",
       "      <td>4.000000</td>\n",
       "      <td>1.000000</td>\n",
       "      <td>4.000000</td>\n",
       "      <td>4.000000</td>\n",
       "      <td>1.000000</td>\n",
       "      <td>15.000000</td>\n",
       "    </tr>\n",
       "    <tr>\n",
       "      <th>max</th>\n",
       "      <td>15.000000</td>\n",
       "      <td>4.000000</td>\n",
       "      <td>2.000000</td>\n",
       "      <td>2.000000</td>\n",
       "      <td>2.000000</td>\n",
       "      <td>3.000000</td>\n",
       "      <td>2.000000</td>\n",
       "      <td>2.000000</td>\n",
       "      <td>2.000000</td>\n",
       "      <td>2.000000</td>\n",
       "      <td>...</td>\n",
       "      <td>4.000000</td>\n",
       "      <td>4.000000</td>\n",
       "      <td>43.00000</td>\n",
       "      <td>3.000000</td>\n",
       "      <td>5.000000</td>\n",
       "      <td>2.000000</td>\n",
       "      <td>4.000000</td>\n",
       "      <td>5.000000</td>\n",
       "      <td>2.000000</td>\n",
       "      <td>20.000000</td>\n",
       "    </tr>\n",
       "  </tbody>\n",
       "</table>\n",
       "<p>8 rows × 265 columns</p>\n",
       "</div>"
      ],
      "text/plain": [
       "              GRADE      SCPUBPRI      DISTASSI     SCHRTSCHL     SNEIGHBRX  \\\n",
       "count  13523.000000  13523.000000  13523.000000  13523.000000  13523.000000   \n",
       "mean       9.658730      3.752570      0.921763      1.597796      1.815869   \n",
       "std        3.838806      0.744754      0.771633      0.959289      0.387605   \n",
       "min        2.000000      1.000000     -1.000000     -1.000000      1.000000   \n",
       "25%        7.000000      4.000000      1.000000      2.000000      2.000000   \n",
       "50%       10.000000      4.000000      1.000000      2.000000      2.000000   \n",
       "75%       13.000000      4.000000      1.000000      2.000000      2.000000   \n",
       "max       15.000000      4.000000      2.000000      2.000000      2.000000   \n",
       "\n",
       "          SPUBCHOIX      SCONSIDR      SPERFORM      S1STCHOI        SSAMSC  \\\n",
       "count  13523.000000  13523.000000  13523.000000  13523.000000  13523.000000   \n",
       "mean       1.942542      1.694225     -0.325889      1.180581      1.028248   \n",
       "std        0.772644      0.460752      1.039979      0.384685      0.165687   \n",
       "min        1.000000      1.000000     -1.000000      1.000000      1.000000   \n",
       "25%        1.000000      1.000000     -1.000000      1.000000      1.000000   \n",
       "50%        2.000000      2.000000     -1.000000      1.000000      1.000000   \n",
       "75%        3.000000      2.000000      1.000000      1.000000      1.000000   \n",
       "max        3.000000      2.000000      2.000000      2.000000      2.000000   \n",
       "\n",
       "       ...      ZIP18PO2      ZIPBLHI2      ZIPLOCL      S16CHART  \\\n",
       "count  ...  13523.000000  13523.000000  13523.00000  13523.000000   \n",
       "mean   ...      2.036604      2.658877     22.68964      1.625305   \n",
       "std    ...      0.967253      1.062233     10.26508      0.975685   \n",
       "min    ...      1.000000      1.000000     11.00000     -9.000000   \n",
       "25%    ...      1.000000      2.000000     13.00000      2.000000   \n",
       "50%    ...      2.000000      3.000000     21.00000      2.000000   \n",
       "75%    ...      3.000000      4.000000     23.00000      2.000000   \n",
       "max    ...      4.000000      4.000000     43.00000      3.000000   \n",
       "\n",
       "           S16NUMST       S16PBPV       S16TYPE      SCHLGRAD     ENGLSPANX  \\\n",
       "count  13523.000000  13523.000000  13523.000000  13523.000000  13523.000000   \n",
       "mean       2.786512      1.113510      3.709606      3.036161      1.049841   \n",
       "std        1.339795      0.317227      1.056901      1.249384      0.217624   \n",
       "min       -9.000000      1.000000     -9.000000     -9.000000      1.000000   \n",
       "25%        2.000000      1.000000      4.000000      2.000000      1.000000   \n",
       "50%        3.000000      1.000000      4.000000      3.000000      1.000000   \n",
       "75%        4.000000      1.000000      4.000000      4.000000      1.000000   \n",
       "max        5.000000      2.000000      4.000000      5.000000      2.000000   \n",
       "\n",
       "            AGE2015  \n",
       "count  13523.000000  \n",
       "mean      12.051690  \n",
       "std        3.787829  \n",
       "min        3.000000  \n",
       "25%        9.000000  \n",
       "50%       12.000000  \n",
       "75%       15.000000  \n",
       "max       20.000000  \n",
       "\n",
       "[8 rows x 265 columns]"
      ]
     },
     "execution_count": 24,
     "metadata": {},
     "output_type": "execute_result"
    }
   ],
   "source": [
    "#drop ID number\n",
    "data.drop(['BASMID', 'QTYPE'], inplace=True, axis=1)\n",
    "data.describe()"
   ]
  },
  {
   "cell_type": "code",
   "execution_count": 36,
   "metadata": {},
   "outputs": [],
   "source": [
    "#Still way too many features! We'll keep the following: current grade, type of school, \n",
    "#whether the student has been in the same school the whole year, grades, enrolled in AP classes,\n",
    "#grades repeated, suspensions, expulsions, month & year of birth, country of birth, race/ethnicity, sex, enrolled in ESL, DISABILITY, zip code poverty/minority percentage/community type, school enrollment, age as of Dec 31, 2018 \n",
    "#target variable is true if total absences are greater than or equal to 15 over the school year\n",
    "X = data.loc[:, ['GRADE','SCPUBPRI', 'DISTASSI', 'SCHRTSCHL', 'SSAMSC', 'SEGRADES', 'SEADPLCXX', 'SEREPEAT', 'SESUSOUT', 'SESUSPIN', 'SEEXPEL', 'CDOBMM', 'CDOBYY', 'CPLCBRTH', 'CMOVEAGE', 'CHISPAN', 'CAMIND', 'CASIAN', 'CBLACK', 'CPACI', 'CWHITE','CHISPRM', 'CSEX', 'CENGLPRG','DISABLTYX', 'DISBLTY2X', 'RACEETHN', 'RACEETH2', 'ZIP18PO2', 'ZIPBLHI2','ZIPLOCL','S16NUMST', 'S16PBPV', 'S16TYPE', 'AGE2015'  ]]\n",
    "y = data['SEABSNT']>=15"
   ]
  },
  {
   "cell_type": "code",
   "execution_count": 47,
   "metadata": {},
   "outputs": [],
   "source": [
    "#Split into training and testing, stratified by target variable\n",
    "X_train, X_test, y_train, y_test = train_test_split(X, y, test_size=0.33, stratify=y)"
   ]
  },
  {
   "cell_type": "code",
   "execution_count": 22,
   "metadata": {},
   "outputs": [
    {
     "ename": "NameError",
     "evalue": "name 'X_train' is not defined",
     "output_type": "error",
     "traceback": [
      "\u001b[0;31m---------------------------------------------------------------------------\u001b[0m",
      "\u001b[0;31mNameError\u001b[0m                                 Traceback (most recent call last)",
      "\u001b[0;32m<ipython-input-22-6d134d2930f7>\u001b[0m in \u001b[0;36m<module>\u001b[0;34m\u001b[0m\n\u001b[0;32m----> 1\u001b[0;31m \u001b[0mtrain_dataset\u001b[0m \u001b[0;34m=\u001b[0m \u001b[0mX_train\u001b[0m\u001b[0;34m\u001b[0m\u001b[0;34m\u001b[0m\u001b[0m\n\u001b[0m\u001b[1;32m      2\u001b[0m \u001b[0mtrain_dataset\u001b[0m\u001b[0;34m[\u001b[0m\u001b[0;34m'target'\u001b[0m\u001b[0;34m]\u001b[0m\u001b[0;34m=\u001b[0m\u001b[0my_train\u001b[0m\u001b[0;34m\u001b[0m\u001b[0;34m\u001b[0m\u001b[0m\n\u001b[1;32m      3\u001b[0m \u001b[0mtest_dataset\u001b[0m \u001b[0;34m=\u001b[0m \u001b[0mX_test\u001b[0m\u001b[0;34m\u001b[0m\u001b[0;34m\u001b[0m\u001b[0m\n\u001b[1;32m      4\u001b[0m \u001b[0mtest_dataset\u001b[0m\u001b[0;34m[\u001b[0m\u001b[0;34m'target'\u001b[0m\u001b[0;34m]\u001b[0m \u001b[0;34m=\u001b[0m \u001b[0my_test\u001b[0m\u001b[0;34m\u001b[0m\u001b[0;34m\u001b[0m\u001b[0m\n\u001b[1;32m      5\u001b[0m \u001b[0mtrain_dataset\u001b[0m\u001b[0;34m.\u001b[0m\u001b[0mto_csv\u001b[0m\u001b[0;34m(\u001b[0m\u001b[0;34m'train.csv'\u001b[0m\u001b[0;34m,\u001b[0m \u001b[0mindex\u001b[0m\u001b[0;34m=\u001b[0m\u001b[0;32mFalse\u001b[0m\u001b[0;34m)\u001b[0m\u001b[0;34m\u001b[0m\u001b[0;34m\u001b[0m\u001b[0m\n",
      "\u001b[0;31mNameError\u001b[0m: name 'X_train' is not defined"
     ]
    }
   ],
   "source": [
    "train_dataset = X_train\n",
    "train_dataset['target']=y_train\n",
    "test_dataset = X_test\n",
    "test_dataset['target'] = y_test\n",
    "train_dataset.to_csv('train.csv')\n",
    "test_dataset.to_csv('test.csv')"
   ]
  },
  {
   "cell_type": "code",
   "execution_count": 42,
   "metadata": {},
   "outputs": [],
   "source": [
    "#Set up AutoGluon Training container\n",
    "ag = AutoGluonTraining(\n",
    "    role=role,\n",
    "    entry_point=\"tabular_train.py\",\n",
    "    region=region,\n",
    "    instance_count=1,\n",
    "    instance_type=\"ml.m5.xlarge\",\n",
    "    framework_version=\"0.3.1\",\n",
    "    base_job_name=\"autogluon-tabular-train\",\n",
    ")"
   ]
  },
  {
   "cell_type": "code",
   "execution_count": 44,
   "metadata": {},
   "outputs": [],
   "source": [
    "#Upload data to S3\n",
    "s3_prefix = f\"autogluon_sm/{utils.sagemaker_timestamp()}\"\n",
    "train_input = ag.sagemaker_session.upload_data(\n",
    "    path=\"train.csv\", key_prefix=s3_prefix\n",
    ")\n",
    "eval_input = ag.sagemaker_session.upload_data(\n",
    "    path=\"test.csv\", key_prefix=s3_prefix\n",
    ")\n",
    "config_input = ag.sagemaker_session.upload_data(\n",
    "    path=\"config.yaml\", key_prefix=s3_prefix\n",
    ")"
   ]
  },
  {
   "cell_type": "code",
   "execution_count": null,
   "metadata": {},
   "outputs": [
    {
     "name": "stdout",
     "output_type": "stream",
     "text": [
      "2022-01-24 21:10:42 Starting - Starting the training job..."
     ]
    }
   ],
   "source": [
    "job_name = utils.unique_name_from_base(\"test-autogluon-image\")\n",
    "ag.fit(\n",
    "    {\"config\": config_input, \"train\": train_input, \"test\": eval_input},\n",
    "    job_name=job_name,\n",
    ")"
   ]
  },
  {
   "cell_type": "code",
   "execution_count": 28,
   "metadata": {},
   "outputs": [
    {
     "data": {
      "text/plain": [
       "291"
      ]
     },
     "execution_count": 28,
     "metadata": {},
     "output_type": "execute_result"
    }
   ],
   "source": []
  },
  {
   "cell_type": "code",
   "execution_count": 15,
   "metadata": {},
   "outputs": [],
   "source": []
  },
  {
   "cell_type": "code",
   "execution_count": null,
   "metadata": {},
   "outputs": [],
   "source": []
  }
 ],
 "metadata": {
  "instance_type": "ml.t3.medium",
  "kernelspec": {
   "display_name": "Python 3 (MXNet 1.8 Python 3.7 GPU Optimized)",
   "language": "python",
   "name": "python3__SAGEMAKER_INTERNAL__arn:aws:sagemaker:us-east-1:081325390199:image/mxnet-1.8-gpu-py37-cu110-ubuntu16.04-v1"
  },
  "language_info": {
   "codemirror_mode": {
    "name": "ipython",
    "version": 3
   },
   "file_extension": ".py",
   "mimetype": "text/x-python",
   "name": "python",
   "nbconvert_exporter": "python",
   "pygments_lexer": "ipython3",
   "version": "3.7.10"
  }
 },
 "nbformat": 4,
 "nbformat_minor": 4
}
